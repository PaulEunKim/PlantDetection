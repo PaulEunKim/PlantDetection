{
 "cells": [
  {
   "cell_type": "code",
   "execution_count": 1,
   "id": "4b5f11c0",
   "metadata": {},
   "outputs": [],
   "source": [
    "from arcgis.gis import GIS"
   ]
  },
  {
   "cell_type": "code",
   "execution_count": 2,
   "id": "a402429f",
   "metadata": {},
   "outputs": [],
   "source": [
    "gis = GIS(\"home\")"
   ]
  },
  {
   "cell_type": "code",
   "execution_count": 4,
   "id": "53345138",
   "metadata": {},
   "outputs": [],
   "source": [
    "data_path = r\"C:\\Users\\Paul\\OneDrive\\School\\2023 - Spring\\Beck's Hybrid\\image-processing\\export\\rectangle-2023-04-11\""
   ]
  },
  {
   "cell_type": "code",
   "execution_count": null,
   "id": "0f981d56",
   "metadata": {},
   "outputs": [],
   "source": [
    "import os\n",
    "import glob\n",
    "import zipfile\n",
    "from pathlib import Path\n",
    "from arcgis.learn import prepare_data, MMDetection"
   ]
  },
  {
   "cell_type": "code",
   "execution_count": null,
   "id": "2ca14ca3",
   "metadata": {},
   "outputs": [],
   "source": [
    "data = prepare_data(data_path, batch_size=4, chip_size=448)"
   ]
  },
  {
   "cell_type": "code",
   "execution_count": null,
   "id": "a41072ff",
   "metadata": {},
   "outputs": [],
   "source": [
    "data.show_batch(rows=3)"
   ]
  },
  {
   "cell_type": "code",
   "execution_count": null,
   "id": "fb990082",
   "metadata": {},
   "outputs": [],
   "source": [
    "model = MMDetection(data, 'dynamic_rcnn')"
   ]
  },
  {
   "cell_type": "code",
   "execution_count": null,
   "id": "ae88e62d",
   "metadata": {},
   "outputs": [],
   "source": [
    "lr = model.lr_find()\n",
    "lr"
   ]
  },
  {
   "cell_type": "code",
   "execution_count": null,
   "id": "b17c7918",
   "metadata": {},
   "outputs": [],
   "source": [
    "model.fit(20, lr=lr)"
   ]
  },
  {
   "cell_type": "code",
   "execution_count": null,
   "id": "0b5cf8b0",
   "metadata": {},
   "outputs": [],
   "source": [
    "model.show_results()"
   ]
  },
  {
   "cell_type": "code",
   "execution_count": null,
   "id": "b03decf1",
   "metadata": {},
   "outputs": [],
   "source": [
    "model.save('mmd_dynamic_rcnn_20ep_2023-04-11')"
   ]
  }
 ],
 "metadata": {
  "kernelspec": {
   "display_name": "Python 3 (ipykernel)",
   "language": "python",
   "name": "python3"
  },
  "language_info": {
   "codemirror_mode": {
    "name": "ipython",
    "version": 3
   },
   "file_extension": ".py",
   "mimetype": "text/x-python",
   "name": "python",
   "nbconvert_exporter": "python",
   "pygments_lexer": "ipython3",
   "version": "3.9.16"
  }
 },
 "nbformat": 4,
 "nbformat_minor": 5
}
